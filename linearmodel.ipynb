{
 "cells": [
  {
   "cell_type": "code",
   "execution_count": 42,
   "metadata": {},
   "outputs": [],
   "source": [
    "import numpy as np\n",
    "import matplotlib.pyplot as plt\n",
    "class LinearRegression(object):\n",
    "    def __init__(self,fit_intercept = True, solver= 'sgd', if_standard = True, epchos = 10, eta=1e-2, batch_size=1) -> None:\n",
    "        super().__init__()\n",
    "        self.w = None\n",
    "        self.fit_intercept = fit_intercept\n",
    "        self.solver = solver\n",
    "        self.if_standard = if_standard\n",
    "        self.epchos = epchos\n",
    "        self.eta = eta\n",
    "        self.batch_size = batch_size\n",
    "        if if_standard:\n",
    "            self.feature_mean = None\n",
    "            self.feature_std = None\n",
    "\n",
    "    def InitParams(self,feature):\n",
    "        self.w = np.random.random(size=(feature,1))\n",
    "#   求解伪逆，用svd分解的方法\n",
    "    def _FitCloseForm(self,x,y):\n",
    "        self.w = np.linalg.pinv(x).dot(y)\n",
    "    \n",
    "#   使用随机梯度下降求解\n",
    "    def _FitSdg(self,x,y):\n",
    "        '''\n",
    "        param x:\n",
    "        param y:\n",
    "        param epochs\n",
    "        param eta\n",
    "        param bacth_size\n",
    "        return\n",
    "        '''\n",
    "        x_y = np.c_[x,y]\n",
    "        for _ in range(self.epchos):\n",
    "            np.random.shuffle(x_y)\n",
    "            for index in range(x_y.shape[0] // self.batch_size ):\n",
    "                batchxy = x_y[self.batch_size*index: self.batch_size*(index+1)]\n",
    "                batchx = batchxy[:,:-1]\n",
    "                batchy = batchxy[:,-1:]\n",
    "\n",
    "                dw = -2* np.transpose(batchx) @ (batchy - batchx @ self.w) / self.batch_size\n",
    "                self.w = self.w -  self.eta *dw\n",
    "   \n",
    "    def fit(self,x,y):\n",
    "        if self.if_standard:\n",
    "            self.feature_mean = np.mean(x,axis=0)\n",
    "            self.feature_std = np.std(x,axis=0)+1e-8\n",
    "            x = (x - self.feature_mean) / self.feature_std\n",
    "        if self.fit_intercept:\n",
    "            x = np.c_[x,np.ones_like(y)]\n",
    "        self.InitParams(x.shape[1])\n",
    "\n",
    "        if self.solver == 'closeform':\n",
    "            self._FitCloseForm(x,y)\n",
    "        elif self.solver == 'sgd':\n",
    "            self._FitSdg(x,y)\n",
    "\n",
    "    def getparams(self):\n",
    "        if self.fit_intercept:\n",
    "            w = self.w[:-1]\n",
    "            b = self.w[-1]\n",
    "        else:\n",
    "            w = self.w\n",
    "            b = 0\n",
    "        if self.if_standard:\n",
    "            w = w/ self.feature_std.reshape(-1,1)\n",
    "            b = b - w.T.dot(self.feature_mean.reshape(-1,1))\n",
    "        return w.reshape(-1), b\n",
    "    \n",
    "    def _predict(self,x):\n",
    "        if self.if_standard:\n",
    "            x = (x-self.feature_mean)/self.feature_std\n",
    "        if self.fit_intercept:\n",
    "            x = np.c_[x,np.ones(shape=x.shape[0])]\n",
    "        return x.dot(self.w) \n",
    "    \n",
    "    def plot_fitboundary(self,x,y):\n",
    "        plt.scatter(x[:,0],y)\n",
    "        plt.plot(x[:, 0], self._predict(x), 'r')\n",
    "    \n",
    "\n",
    "\n",
    "   \n"
   ]
  },
  {
   "cell_type": "code",
   "execution_count": 39,
   "metadata": {},
   "outputs": [],
   "source": [
    "import numpy as np\n",
    "#造伪样本\n",
    "X=np.linspace(0,100,100)\n",
    "X=np.c_[X,np.ones(100)]\n",
    "w=np.asarray([3,2])\n",
    "Y=X.dot(w)\n",
    "X=X.astype('float')\n",
    "Y=Y.astype('float')\n",
    "X[:,0]+=np.random.normal(size=(X[:,0].shape))*3"
   ]
  },
  {
   "cell_type": "code",
   "execution_count": 61,
   "metadata": {},
   "outputs": [
    {
     "name": "stdout",
     "output_type": "stream",
     "text": [
      "w (array([3.00695752]), array([[1.12840342]]))\n"
     ]
    },
    {
     "data": {
      "image/png": "[encoded data removed]",
      "text/plain": [
       "<Figure size 432x288 with 1 Axes>"
      ]
     },
     "metadata": {
      "needs_background": "light"
     },
     "output_type": "display_data"
    }
   ],
   "source": [
    "#测试\n",
    "lr=LinearRegression(solver='sgd')\n",
    "lr.fit(X[:,:-1],Y)\n",
    "predict=lr._predict(X[:,:-1])\n",
    "#查看w\n",
    "print('w',lr.getparams())\n",
    "#查看标准差\n",
    "np.std(Y-predict)\n",
    "lr.plot_fitboundary(X[:,:-1],Y)"
   ]
  }
 ],
 "metadata": {
  "interpreter": {
   "hash": "b8f3cb745b45ad8c8ec230f532a8c7fe903b17d0d81855eb2eb3aed7847cd52d"
  },
  "kernelspec": {
   "display_name": "Python 3.9.7 64-bit ('datascience': conda)",
   "language": "python",
   "name": "python3"
  },
  "language_info": {
   "codemirror_mode": {
    "name": "ipython",
    "version": 3
   },
   "file_extension": ".py",
   "mimetype": "text/x-python",
   "name": "python",
   "nbconvert_exporter": "python",
   "pygments_lexer": "ipython3",
   "version": "3.9.7"
  },
  "orig_nbformat": 4
 },
 "nbformat": 4,
 "nbformat_minor": 2
}
