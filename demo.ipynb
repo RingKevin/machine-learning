{
 "cells": [
  {
   "cell_type": "code",
   "execution_count": null,
   "metadata": {},
   "outputs": [],
   "source": [
    "import numpy as np\n",
    "class LinearRegression(object):\n",
    "    def __init__(self,fit_intercept = True, solver= 'sgd', if_standard = True, epchos = 10, eta=1e-2, batch_size=1) -> None:\n",
    "        super().__init__()\n",
    "        self.w = None\n",
    "        self.fit_intercept = fit_intercept\n",
    "        self.solver = solver\n",
    "        self.if_standard = if_standard\n",
    "        self.epchos = epchos\n",
    "        self.eta = eta\n",
    "        self.batch_size = batch_size\n",
    "        if if_standard:\n",
    "            self.feature_mean = None\n",
    "            self.feature_std = None\n",
    "\n",
    "    def InitParams(self,feature):\n",
    "        self.w = np.random.random(size=(feature,1))\n",
    "    \n",
    "    def FitCloseForm(self,x,y):\n",
    "        self.w = np.linalg.pinv(x).dot(y)\n",
    "#   求解伪逆，用svd分解的方法\n",
    "    \n",
    "        \n"
   ]
  }
 ],
 "metadata": {
  "interpreter": {
   "hash": "b8f3cb745b45ad8c8ec230f532a8c7fe903b17d0d81855eb2eb3aed7847cd52d"
  },
  "kernelspec": {
   "display_name": "Python 3.9.7 64-bit ('datascience': conda)",
   "language": "python",
   "name": "python3"
  },
  "language_info": {
   "name": "python",
   "version": "3.9.7"
  },
  "orig_nbformat": 4
 },
 "nbformat": 4,
 "nbformat_minor": 2
}
